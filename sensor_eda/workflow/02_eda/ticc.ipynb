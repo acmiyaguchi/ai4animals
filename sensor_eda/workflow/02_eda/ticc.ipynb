{
 "cells": [
  {
   "cell_type": "code",
   "execution_count": 1,
   "id": "c4f94b4d",
   "metadata": {},
   "outputs": [],
   "source": [
    "%load_ext autoreload\n",
    "%autoreload 2"
   ]
  },
  {
   "cell_type": "code",
   "execution_count": 2,
   "id": "b253394b",
   "metadata": {},
   "outputs": [
    {
     "name": "stderr",
     "output_type": "stream",
     "text": [
      "WARNING: Using incubator modules: jdk.incubator.vector\n",
      "Using Spark's default log4j profile: org/apache/spark/log4j2-defaults.properties\n",
      "Setting default log level to \"WARN\".\n",
      "To adjust logging level use sc.setLogLevel(newLevel). For SparkR, use setLogLevel(newLevel).\n",
      "25/09/29 23:34:34 WARN NativeCodeLoader: Unable to load native-hadoop library for your platform... using builtin-java classes where applicable\n",
      "25/09/29 23:34:34 WARN SparkConf: Note that spark.local.dir will be overridden by the value set by the cluster manager (via SPARK_LOCAL_DIRS in standalone/kubernetes and LOCAL_DIRS in YARN).\n",
      "25/09/29 23:34:35 WARN Utils: Service 'SparkUI' could not bind on port 4040. Attempting port 4041.\n"
     ]
    },
    {
     "data": {
      "text/html": [
       "\n",
       "            <div>\n",
       "                <p><b>SparkSession - in-memory</b></p>\n",
       "                \n",
       "        <div>\n",
       "            <p><b>SparkContext</b></p>\n",
       "\n",
       "            <p><a href=\"http://acmiyaguchi.us-central1-f.c.acmiyaguchi.internal:4041\">Spark UI</a></p>\n",
       "\n",
       "            <dl>\n",
       "              <dt>Version</dt>\n",
       "                <dd><code>v4.0.1</code></dd>\n",
       "              <dt>Master</dt>\n",
       "                <dd><code>local[*]</code></dd>\n",
       "              <dt>AppName</dt>\n",
       "                <dd><code>pyspark-shell</code></dd>\n",
       "            </dl>\n",
       "        </div>\n",
       "        \n",
       "            </div>\n",
       "        "
      ],
      "text/plain": [
       "<pyspark.sql.session.SparkSession at 0x77e1467955a0>"
      ]
     },
     "execution_count": 2,
     "metadata": {},
     "output_type": "execute_result"
    }
   ],
   "source": [
    "from pyspark.sql import SparkSession, functions as F\n",
    "\n",
    "\n",
    "def get_spark():\n",
    "    return SparkSession.builder.config(\"spark.local.dir\", \"/mnt/data/tmp\").getOrCreate()\n",
    "\n",
    "\n",
    "spark = get_spark()\n",
    "spark"
   ]
  },
  {
   "cell_type": "code",
   "execution_count": 3,
   "id": "c6393235",
   "metadata": {},
   "outputs": [
    {
     "name": "stderr",
     "output_type": "stream",
     "text": [
      "[Stage 2:>                                                          (0 + 1) / 1]\r"
     ]
    },
    {
     "name": "stdout",
     "output_type": "stream",
     "text": [
      "+--------------------+------+--------+--------+---------+--------------------+-----+\n",
      "|            dateTime|calfId|    accX|    accY|     accZ|           behaviour|segId|\n",
      "+--------------------+------+--------+--------+---------+--------------------+-----+\n",
      "|2022-02-24 00:08:...|  1306|  0.8125|0.390625|  0.28125|oral_manipulation...|    0|\n",
      "|2022-02-24 00:08:...|  1306|  0.6875|   0.375|    0.375|oral_manipulation...|    0|\n",
      "|2022-02-24 00:08:...|  1306|   0.625|0.296875| 0.265625|oral_manipulation...|    0|\n",
      "|2022-02-24 00:08:...|  1306|0.703125| 0.21875|  0.21875|oral_manipulation...|    0|\n",
      "|2022-02-24 00:08:...|  1306|0.734375| 0.21875|     0.25|oral_manipulation...|    0|\n",
      "|2022-02-24 00:08:...|  1306|    0.75|0.234375|     0.25|oral_manipulation...|    0|\n",
      "|2022-02-24 00:08:...|  1306|  0.9375|  0.3125| 0.171875|oral_manipulation...|    0|\n",
      "|2022-02-24 00:08:...|  1306|0.890625|0.328125|     0.25|oral_manipulation...|    0|\n",
      "|2022-02-24 00:08:...|  1306|0.703125|   0.375|  0.15625|oral_manipulation...|    0|\n",
      "|2022-02-24 00:08:...|  1306|  0.9375|0.171875|      0.0|oral_manipulation...|    0|\n",
      "|2022-02-24 00:08:...|  1306|0.921875|0.203125|-0.015625|oral_manipulation...|    0|\n",
      "|2022-02-24 00:08:...|  1306|0.953125|0.265625|      0.0|oral_manipulation...|    0|\n",
      "|2022-02-24 00:08:...|  1306|     1.0| 0.28125|  -0.0625|oral_manipulation...|    0|\n",
      "|2022-02-24 00:08:...|  1306| 0.96875|    0.25|-0.109375|oral_manipulation...|    0|\n",
      "|2022-02-24 00:08:...|  1306|0.859375|0.265625|-0.078125|oral_manipulation...|    0|\n",
      "|2022-02-24 00:08:...|  1306|0.890625|    0.25|-0.109375|oral_manipulation...|    0|\n",
      "|2022-02-24 00:08:...|  1306|0.890625|0.234375| -0.09375|oral_manipulation...|    0|\n",
      "|2022-02-24 00:08:...|  1306| 0.90625|0.234375|-0.046875|oral_manipulation...|    0|\n",
      "|2022-02-24 00:08:...|  1306|0.859375|0.296875| -0.09375|oral_manipulation...|    0|\n",
      "|2022-02-24 00:08:...|  1306|  0.8125| 0.28125|  -0.0625|oral_manipulation...|    0|\n",
      "+--------------------+------+--------+--------+---------+--------------------+-----+\n",
      "only showing top 20 rows\n"
     ]
    },
    {
     "name": "stderr",
     "output_type": "stream",
     "text": [
      "                                                                                \r"
     ]
    }
   ],
   "source": [
    "df = spark.read.csv(\n",
    "    \"/home/anthony/scratch/ai4animals/sensor_eda/AcTBeCalf.csv\",\n",
    "    header=True,\n",
    "    inferSchema=True,\n",
    ").cache()\n",
    "df.show()"
   ]
  },
  {
   "cell_type": "code",
   "execution_count": 31,
   "id": "a51022da",
   "metadata": {},
   "outputs": [
    {
     "name": "stderr",
     "output_type": "stream",
     "text": [
      "                                                                                \r"
     ]
    },
    {
     "name": "stdout",
     "output_type": "stream",
     "text": [
      "+---------+-----+\n",
      "|behaviour|count|\n",
      "+---------+-----+\n",
      "| standing|    8|\n",
      "|  running|   11|\n",
      "|    lying|    1|\n",
      "+---------+-----+\n",
      "\n"
     ]
    }
   ],
   "source": [
    "from pyspark.sql import Window\n",
    "\n",
    "\n",
    "def update_behaviour(label):\n",
    "    if label in [\"drinking_milk\", \"lying\", \"running\", \"standing\"]:\n",
    "        return label\n",
    "    else:\n",
    "        return \"other\"\n",
    "\n",
    "\n",
    "# take the first few sequences just for testing\n",
    "test = (\n",
    "    df.where(\"calfId = 1306\")\n",
    "    .withColumn(\"behaviour\", F.udf(update_behaviour, \"string\")(\"behaviour\"))\n",
    "    .where(F.col(\"behaviour\") != \"other\")\n",
    "    .orderBy(\"dateTime\")\n",
    ")\n",
    "# keep the first few\n",
    "seg = (\n",
    "    test.select(\"calfId\", \"segId\")\n",
    "    .distinct()\n",
    "    .withColumn(\n",
    "        \"rank\", F.row_number().over(Window.partitionBy(\"calfId\").orderBy(\"segId\"))\n",
    "    )\n",
    ")\n",
    "test = (\n",
    "    test.join(seg.where(\"rank <= 20\").select(\"calfId\", \"segId\"), on=[\"calfId\", \"segId\"])\n",
    "    .orderBy(\"dateTime\")\n",
    ")\n",
    "test.select(\"segId\", \"behaviour\").distinct().groupBy(\"behaviour\").count().show()"
   ]
  },
  {
   "cell_type": "code",
   "execution_count": 33,
   "id": "11f2bee3",
   "metadata": {},
   "outputs": [
    {
     "name": "stderr",
     "output_type": "stream",
     "text": [
      "                                                                                \r"
     ]
    },
    {
     "data": {
      "text/html": [
       "<div>\n",
       "<style scoped>\n",
       "    .dataframe tbody tr th:only-of-type {\n",
       "        vertical-align: middle;\n",
       "    }\n",
       "\n",
       "    .dataframe tbody tr th {\n",
       "        vertical-align: top;\n",
       "    }\n",
       "\n",
       "    .dataframe thead th {\n",
       "        text-align: right;\n",
       "    }\n",
       "</style>\n",
       "<table border=\"1\" class=\"dataframe\">\n",
       "  <thead>\n",
       "    <tr style=\"text-align: right;\">\n",
       "      <th></th>\n",
       "      <th>dateTime</th>\n",
       "      <th>accX</th>\n",
       "      <th>accY</th>\n",
       "      <th>accZ</th>\n",
       "      <th>behaviour</th>\n",
       "    </tr>\n",
       "  </thead>\n",
       "  <tbody>\n",
       "    <tr>\n",
       "      <th>0</th>\n",
       "      <td>2022-02-06 17:31:44.261902</td>\n",
       "      <td>1.000000</td>\n",
       "      <td>-0.328125</td>\n",
       "      <td>-0.093750</td>\n",
       "      <td>standing</td>\n",
       "    </tr>\n",
       "    <tr>\n",
       "      <th>1</th>\n",
       "      <td>2022-02-06 17:31:44.301903</td>\n",
       "      <td>1.000000</td>\n",
       "      <td>-0.312500</td>\n",
       "      <td>-0.062500</td>\n",
       "      <td>standing</td>\n",
       "    </tr>\n",
       "    <tr>\n",
       "      <th>2</th>\n",
       "      <td>2022-02-06 17:31:44.340903</td>\n",
       "      <td>0.937500</td>\n",
       "      <td>-0.359375</td>\n",
       "      <td>-0.046875</td>\n",
       "      <td>standing</td>\n",
       "    </tr>\n",
       "    <tr>\n",
       "      <th>3</th>\n",
       "      <td>2022-02-06 17:31:44.381904</td>\n",
       "      <td>0.890625</td>\n",
       "      <td>-0.359375</td>\n",
       "      <td>-0.031250</td>\n",
       "      <td>standing</td>\n",
       "    </tr>\n",
       "    <tr>\n",
       "      <th>4</th>\n",
       "      <td>2022-02-06 17:31:44.421904</td>\n",
       "      <td>0.890625</td>\n",
       "      <td>-0.343750</td>\n",
       "      <td>-0.078125</td>\n",
       "      <td>standing</td>\n",
       "    </tr>\n",
       "  </tbody>\n",
       "</table>\n",
       "</div>"
      ],
      "text/plain": [
       "                    dateTime      accX      accY      accZ behaviour\n",
       "0 2022-02-06 17:31:44.261902  1.000000 -0.328125 -0.093750  standing\n",
       "1 2022-02-06 17:31:44.301903  1.000000 -0.312500 -0.062500  standing\n",
       "2 2022-02-06 17:31:44.340903  0.937500 -0.359375 -0.046875  standing\n",
       "3 2022-02-06 17:31:44.381904  0.890625 -0.359375 -0.031250  standing\n",
       "4 2022-02-06 17:31:44.421904  0.890625 -0.343750 -0.078125  standing"
      ]
     },
     "metadata": {},
     "output_type": "display_data"
    },
    {
     "data": {
      "text/plain": [
       "(20700, 5)"
      ]
     },
     "metadata": {},
     "output_type": "display_data"
    },
    {
     "data": {
      "text/plain": [
       "<Axes: xlabel='dateTime'>"
      ]
     },
     "execution_count": 33,
     "metadata": {},
     "output_type": "execute_result"
    }
   ],
   "source": [
    "import matplotlib.pyplot as plt\n",
    "pdf = test.select(\"dateTime\", \"accX\", \"accY\", \"accZ\", \"behaviour\").toPandas()\n",
    "display(pdf.head())\n",
    "display(pdf.shape)\n",
    "pdf.plot(x=\"dateTime\", y=[\"accX\", \"accY\", \"accZ\"])"
   ]
  },
  {
   "cell_type": "code",
   "execution_count": 28,
   "id": "9f460fe5",
   "metadata": {},
   "outputs": [
    {
     "data": {
      "text/plain": [
       "(20700, 3)"
      ]
     },
     "metadata": {},
     "output_type": "display_data"
    },
    {
     "name": "stdout",
     "output_type": "stream",
     "text": [
      "1.000000000000000000e+00,-3.281250000000000000e-01,-9.375000000000000000e-02\n",
      "1.000000000000000000e+00,-3.125000000000000000e-01,-6.250000000000000000e-02\n",
      "9.375000000000000000e-01,-3.593750000000000000e-01,-4.687500000000000000e-02\n",
      "8.906250000000000000e-01,-3.593750000000000000e-01,-3.125000000000000000e-02\n",
      "8.906250000000000000e-01,-3.437500000000000000e-01,-7.812500000000000000e-02\n"
     ]
    }
   ],
   "source": [
    "import numpy as np\n",
    "\n",
    "X = pdf[[\"accX\", \"accY\", \"accZ\"]].to_numpy()\n",
    "display(X.shape)\n",
    "\n",
    "# now write as txt to temporary file\n",
    "infile = \"/home/anthony/scratch/ai4animals/sensor_eda/test_ticc.txt\"\n",
    "np.savetxt(infile, X, delimiter=\",\")\n",
    "\n",
    "! head -n5 {infile}"
   ]
  },
  {
   "cell_type": "code",
   "execution_count": null,
   "id": "801763d2",
   "metadata": {},
   "outputs": [],
   "source": [
    "# now lets run TICC\n",
    "from ticc.TICC_solver import TICC\n",
    "\n",
    "# 25 hz, so window size of 100 is 4 seconds\n",
    "ticc = TICC(\n",
    "    window_size=100,\n",
    "    number_of_clusters=3,\n",
    "    lambda_parameter=11e-2,\n",
    "    beta=600,\n",
    "    maxIters=100,\n",
    "    threshold=2e-5,\n",
    "    write_out_file=False,\n",
    "    prefix_string=\"output_folder/\",\n",
    "    num_proc=4,\n",
    ")\n",
    "(cluster_assignment, cluster_MRFs) = ticc.fit(input_file=infile)\n",
    "\n",
    "type(cluster_assignment), type(cluster_MRFs)"
   ]
  }
 ],
 "metadata": {
  "kernelspec": {
   "display_name": "ai4animals",
   "language": "python",
   "name": "python3"
  },
  "language_info": {
   "codemirror_mode": {
    "name": "ipython",
    "version": 3
   },
   "file_extension": ".py",
   "mimetype": "text/x-python",
   "name": "python",
   "nbconvert_exporter": "python",
   "pygments_lexer": "ipython3",
   "version": "3.10.18"
  }
 },
 "nbformat": 4,
 "nbformat_minor": 5
}
