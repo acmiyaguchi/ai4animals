{
 "cells": [
  {
   "cell_type": "markdown",
   "id": "fb92a7c1",
   "metadata": {},
   "source": [
    "This notebook is mostly to take a look at the data, and to figure what kinds of things are described in it."
   ]
  },
  {
   "cell_type": "code",
   "execution_count": 2,
   "id": "e9d4dc63",
   "metadata": {},
   "outputs": [
    {
     "name": "stderr",
     "output_type": "stream",
     "text": [
      "WARNING: Using incubator modules: jdk.incubator.vector\n",
      "Using Spark's default log4j profile: org/apache/spark/log4j2-defaults.properties\n",
      "Setting default log level to \"WARN\".\n",
      "To adjust logging level use sc.setLogLevel(newLevel). For SparkR, use setLogLevel(newLevel).\n",
      "25/09/29 22:03:46 WARN NativeCodeLoader: Unable to load native-hadoop library for your platform... using builtin-java classes where applicable\n",
      "25/09/29 22:03:46 WARN SparkConf: Note that spark.local.dir will be overridden by the value set by the cluster manager (via SPARK_LOCAL_DIRS in standalone/kubernetes and LOCAL_DIRS in YARN).\n",
      "25/09/29 22:03:47 WARN Utils: Service 'SparkUI' could not bind on port 4040. Attempting port 4041.\n"
     ]
    },
    {
     "data": {
      "text/html": [
       "\n",
       "            <div>\n",
       "                <p><b>SparkSession - in-memory</b></p>\n",
       "                \n",
       "        <div>\n",
       "            <p><b>SparkContext</b></p>\n",
       "\n",
       "            <p><a href=\"http://acmiyaguchi.us-central1-f.c.acmiyaguchi.internal:4041\">Spark UI</a></p>\n",
       "\n",
       "            <dl>\n",
       "              <dt>Version</dt>\n",
       "                <dd><code>v4.0.1</code></dd>\n",
       "              <dt>Master</dt>\n",
       "                <dd><code>local[*]</code></dd>\n",
       "              <dt>AppName</dt>\n",
       "                <dd><code>pyspark-shell</code></dd>\n",
       "            </dl>\n",
       "        </div>\n",
       "        \n",
       "            </div>\n",
       "        "
      ],
      "text/plain": [
       "<pyspark.sql.session.SparkSession at 0x7996533fd3f0>"
      ]
     },
     "execution_count": 2,
     "metadata": {},
     "output_type": "execute_result"
    }
   ],
   "source": [
    "from pyspark.sql import SparkSession, functions as F\n",
    "\n",
    "\n",
    "def get_spark():\n",
    "    return SparkSession.builder.config(\"spark.local.dir\", \"/mnt/data/tmp\").getOrCreate()\n",
    "\n",
    "\n",
    "spark = get_spark()\n",
    "spark"
   ]
  },
  {
   "cell_type": "code",
   "execution_count": 3,
   "id": "916477fa",
   "metadata": {},
   "outputs": [
    {
     "name": "stderr",
     "output_type": "stream",
     "text": [
      "[Stage 2:>                                                          (0 + 1) / 1]\r"
     ]
    },
    {
     "name": "stdout",
     "output_type": "stream",
     "text": [
      "+--------------------+------+--------+--------+---------+--------------------+-----+\n",
      "|            dateTime|calfId|    accX|    accY|     accZ|           behaviour|segId|\n",
      "+--------------------+------+--------+--------+---------+--------------------+-----+\n",
      "|2022-02-24 00:08:...|  1306|  0.8125|0.390625|  0.28125|oral_manipulation...|    0|\n",
      "|2022-02-24 00:08:...|  1306|  0.6875|   0.375|    0.375|oral_manipulation...|    0|\n",
      "|2022-02-24 00:08:...|  1306|   0.625|0.296875| 0.265625|oral_manipulation...|    0|\n",
      "|2022-02-24 00:08:...|  1306|0.703125| 0.21875|  0.21875|oral_manipulation...|    0|\n",
      "|2022-02-24 00:08:...|  1306|0.734375| 0.21875|     0.25|oral_manipulation...|    0|\n",
      "|2022-02-24 00:08:...|  1306|    0.75|0.234375|     0.25|oral_manipulation...|    0|\n",
      "|2022-02-24 00:08:...|  1306|  0.9375|  0.3125| 0.171875|oral_manipulation...|    0|\n",
      "|2022-02-24 00:08:...|  1306|0.890625|0.328125|     0.25|oral_manipulation...|    0|\n",
      "|2022-02-24 00:08:...|  1306|0.703125|   0.375|  0.15625|oral_manipulation...|    0|\n",
      "|2022-02-24 00:08:...|  1306|  0.9375|0.171875|      0.0|oral_manipulation...|    0|\n",
      "|2022-02-24 00:08:...|  1306|0.921875|0.203125|-0.015625|oral_manipulation...|    0|\n",
      "|2022-02-24 00:08:...|  1306|0.953125|0.265625|      0.0|oral_manipulation...|    0|\n",
      "|2022-02-24 00:08:...|  1306|     1.0| 0.28125|  -0.0625|oral_manipulation...|    0|\n",
      "|2022-02-24 00:08:...|  1306| 0.96875|    0.25|-0.109375|oral_manipulation...|    0|\n",
      "|2022-02-24 00:08:...|  1306|0.859375|0.265625|-0.078125|oral_manipulation...|    0|\n",
      "|2022-02-24 00:08:...|  1306|0.890625|    0.25|-0.109375|oral_manipulation...|    0|\n",
      "|2022-02-24 00:08:...|  1306|0.890625|0.234375| -0.09375|oral_manipulation...|    0|\n",
      "|2022-02-24 00:08:...|  1306| 0.90625|0.234375|-0.046875|oral_manipulation...|    0|\n",
      "|2022-02-24 00:08:...|  1306|0.859375|0.296875| -0.09375|oral_manipulation...|    0|\n",
      "|2022-02-24 00:08:...|  1306|  0.8125| 0.28125|  -0.0625|oral_manipulation...|    0|\n",
      "+--------------------+------+--------+--------+---------+--------------------+-----+\n",
      "only showing top 20 rows\n"
     ]
    },
    {
     "name": "stderr",
     "output_type": "stream",
     "text": [
      "                                                                                \r"
     ]
    }
   ],
   "source": [
    "df = spark.read.csv(\n",
    "    \"/home/anthony/scratch/ai4animals/sensor_eda/AcTBeCalf.csv\",\n",
    "    header=True,\n",
    "    inferSchema=True,\n",
    ").cache()\n",
    "df.show()"
   ]
  },
  {
   "cell_type": "code",
   "execution_count": 4,
   "id": "927e42c5",
   "metadata": {},
   "outputs": [
    {
     "name": "stdout",
     "output_type": "stream",
     "text": [
      "root\n",
      " |-- dateTime: timestamp (nullable = true)\n",
      " |-- calfId: integer (nullable = true)\n",
      " |-- accX: double (nullable = true)\n",
      " |-- accY: double (nullable = true)\n",
      " |-- accZ: double (nullable = true)\n",
      " |-- behaviour: string (nullable = true)\n",
      " |-- segId: integer (nullable = true)\n",
      "\n"
     ]
    }
   ],
   "source": [
    "df.printSchema()"
   ]
  },
  {
   "cell_type": "code",
   "execution_count": 5,
   "id": "209d38e5",
   "metadata": {},
   "outputs": [
    {
     "name": "stderr",
     "output_type": "stream",
     "text": [
      "25/09/29 22:03:58 WARN SparkStringUtils: Truncated the string representation of a plan since it was too large. This behavior can be adjusted by setting 'spark.sql.debug.maxToStringFields'.\n",
      "[Stage 4:=============================>                             (2 + 2) / 4]\r"
     ]
    },
    {
     "name": "stdout",
     "output_type": "stream",
     "text": [
      "+-------+------------------+------------------+-------------------+--------------------+---------+------------------+\n",
      "|summary|            calfId|              accX|               accY|                accZ|behaviour|             segId|\n",
      "+-------+------------------+------------------+-------------------+--------------------+---------+------------------+\n",
      "|  count|           2467162|           2467162|            2467162|             2467162|  2467162|           2467162|\n",
      "|   mean|1363.3675279531706|0.7037010414192502|-0.1383766360397088|0.025851128492981004|     NULL|1860.2866086620984|\n",
      "| stddev|55.239441894211105|0.4324866287756599|0.36701529521784776| 0.40316721879492157|     NULL| 1176.876765203122|\n",
      "|    min|              1302|          -5.65625|          -7.765625|              -3.625|      SRS|                 0|\n",
      "|    max|              1455|          7.859375|            6.59375|             6.59375|  walking|              4015|\n",
      "+-------+------------------+------------------+-------------------+--------------------+---------+------------------+\n",
      "\n"
     ]
    },
    {
     "name": "stderr",
     "output_type": "stream",
     "text": [
      "                                                                                \r"
     ]
    }
   ],
   "source": [
    "df.describe().show()"
   ]
  },
  {
   "cell_type": "code",
   "execution_count": 6,
   "id": "4bb168b7",
   "metadata": {},
   "outputs": [
    {
     "data": {
      "text/plain": [
       "30"
      ]
     },
     "execution_count": 6,
     "metadata": {},
     "output_type": "execute_result"
    }
   ],
   "source": [
    "# number of calves\n",
    "df.select(\"calfId\").distinct().count()"
   ]
  },
  {
   "cell_type": "code",
   "execution_count": 7,
   "id": "19fe1e96",
   "metadata": {},
   "outputs": [
    {
     "name": "stdout",
     "output_type": "stream",
     "text": [
      "+--------------------+------+\n",
      "|           behaviour| count|\n",
      "+--------------------+------+\n",
      "|               lying|965184|\n",
      "|       drinking_milk|217075|\n",
      "|            standing|188908|\n",
      "| eating_concentrates|146067|\n",
      "|               sniff|134768|\n",
      "|      eating_bedding|129119|\n",
      "|oral_manipulation...|118210|\n",
      "|            grooming|114181|\n",
      "|             running| 83345|\n",
      "|       eating_forage| 80428|\n",
      "|             walking| 67337|\n",
      "|        social_groom| 29776|\n",
      "|        social_sniff| 23019|\n",
      "|            headbutt| 17819|\n",
      "|    rumination_lying| 16794|\n",
      "|      grooming_lying| 12175|\n",
      "|       sniff_walking| 11347|\n",
      "|            abnormal| 10903|\n",
      "|             scratch| 10306|\n",
      "|              social|  9185|\n",
      "+--------------------+------+\n",
      "only showing top 20 rows\n",
      "50\n"
     ]
    }
   ],
   "source": [
    "# number of behavios\n",
    "behaviours = df.groupBy(\"behaviour\").count().orderBy(\"count\", ascending=False)\n",
    "behaviours.show()\n",
    "print(behaviours.count())\n"
   ]
  },
  {
   "cell_type": "code",
   "execution_count": 8,
   "id": "0bc478bf",
   "metadata": {},
   "outputs": [
    {
     "name": "stdout",
     "output_type": "stream",
     "text": [
      "+--------------------+------------+\n",
      "|           behaviour|num_segments|\n",
      "+--------------------+------------+\n",
      "|               lying|      965184|\n",
      "|       drinking_milk|      217075|\n",
      "|            standing|      188908|\n",
      "| eating_concentrates|      146067|\n",
      "|               sniff|      134768|\n",
      "|      eating_bedding|      129119|\n",
      "|oral_manipulation...|      118210|\n",
      "|            grooming|      114181|\n",
      "|             running|       83345|\n",
      "|       eating_forage|       80428|\n",
      "|             walking|       67337|\n",
      "|        social_groom|       29776|\n",
      "|        social_sniff|       23019|\n",
      "|            headbutt|       17819|\n",
      "|    rumination_lying|       16794|\n",
      "|      grooming_lying|       12175|\n",
      "|       sniff_walking|       11347|\n",
      "|            abnormal|       10903|\n",
      "|             scratch|       10306|\n",
      "|              social|        9185|\n",
      "+--------------------+------------+\n",
      "only showing top 20 rows\n"
     ]
    }
   ],
   "source": [
    "df.groupBy(\"behaviour\").agg(F.count(\"segId\").alias(\"num_segments\")).orderBy(\n",
    "    \"num_segments\", ascending=False\n",
    ").show()\n"
   ]
  },
  {
   "cell_type": "code",
   "execution_count": 9,
   "id": "0107e8a1",
   "metadata": {},
   "outputs": [
    {
     "name": "stdout",
     "output_type": "stream",
     "text": [
      "+-----------------+\n",
      "|       avg(count)|\n",
      "+-----------------+\n",
      "|614.3331673306773|\n",
      "+-----------------+\n",
      "\n"
     ]
    }
   ],
   "source": [
    "# how many timepoints per segment on average\n",
    "df.groupBy(\"calfId\", \"segId\").count().groupBy().avg(\"count\").show()"
   ]
  },
  {
   "cell_type": "code",
   "execution_count": 17,
   "id": "251bc239",
   "metadata": {},
   "outputs": [
    {
     "data": {
      "text/plain": [
       "107829"
      ]
     },
     "metadata": {},
     "output_type": "display_data"
    },
    {
     "name": "stdout",
     "output_type": "stream",
     "text": [
      "+--------------------+-----+\n",
      "|           behaviour|count|\n",
      "+--------------------+-----+\n",
      "|oral_manipulation...|  825|\n",
      "+--------------------+-----+\n",
      "\n",
      "+--------------------+-----+\n",
      "|           behaviour|count|\n",
      "+--------------------+-----+\n",
      "|oral_manipulation...|  557|\n",
      "+--------------------+-----+\n",
      "\n"
     ]
    }
   ],
   "source": [
    "calf = 1306\n",
    "display(df.where(f\"calfId = {calf}\").count())\n",
    "df.where(f\"calfId = {calf}\").groupBy(\"segId\").count().count()\n",
    "df.where(f\"calfId = {calf}\").where(\"segId = 0\").groupBy(\"behaviour\").count().orderBy(\"count\", ascending=False).show()\n",
    "df.where(f\"calfId = {calf}\").where(\"segId = 1\").groupBy(\"behaviour\").count().orderBy(\"count\", ascending=False).show()"
   ]
  },
  {
   "cell_type": "code",
   "execution_count": 19,
   "id": "650383d9",
   "metadata": {},
   "outputs": [
    {
     "data": {
      "text/plain": [
       "<Axes: xlabel='dateTime'>"
      ]
     },
     "execution_count": 19,
     "metadata": {},
     "output_type": "execute_result"
    },
    {
     "data": {
      "image/png": "[encoded data removed]",
      "text/plain": [
       "<Figure size 640x480 with 1 Axes>"
      ]
     },
     "metadata": {},
     "output_type": "display_data"
    }
   ],
   "source": [
    "# how to visualize this time series data?\n",
    "import matplotlib.pyplot as plt\n",
    "\n",
    "pdf = df.where(\"calfId = 1306\").where(\"segId < 10\").orderBy(\"dateTime\").toPandas()\n",
    "pdf.plot(x=\"dateTime\", y=[\"accX\", \"accY\", \"accZ\"])"
   ]
  },
  {
   "cell_type": "code",
   "execution_count": 59,
   "id": "a132fbbe",
   "metadata": {},
   "outputs": [
    {
     "name": "stdout",
     "output_type": "stream",
     "text": [
      "+-------+----------+\n",
      "|row_num| time_diff|\n",
      "+-------+----------+\n",
      "|    826| 11.290133|\n",
      "|   1383|  4.294051|\n",
      "|   2201|148.289746|\n",
      "|   2505| 19.038224|\n",
      "|   2746| 15.787186|\n",
      "|   2917| 13.135155|\n",
      "|   3181| 19.786233|\n",
      "|   4201| 15.544183|\n",
      "|   4328| 63.801751|\n",
      "+-------+----------+\n",
      "\n"
     ]
    }
   ],
   "source": [
    "# what are the distances between sensor readings?\n",
    "from pyspark.sql.window import Window\n",
    "\n",
    "df.where(\"calfId = 1306\").where(\"segId < 10\").orderBy(\"dateTime\").select(\n",
    "    \"dateTime\",\n",
    "    F.lag(\"dateTime\").over(\n",
    "        Window.partitionBy(\"calfId\").orderBy(\"dateTime\")\n",
    "    ).alias(\"prev_time\"),\n",
    "    F.row_number().over(\n",
    "        Window.partitionBy(\"calfId\").orderBy(\"dateTime\")\n",
    "    ).alias(\"row_num\"),\n",
    ").select(\n",
    "    # convert to seconds\n",
    "    \"row_num\",\n",
    "    ((F.unix_micros(\"dateTime\") - F.unix_micros(\"prev_time\")) / 1000000).alias(\n",
    "        \"time_diff\"\n",
    "    )\n",
    ").where(\"time_diff > 0.1\").show()"
   ]
  }
 ],
 "metadata": {
  "kernelspec": {
   "display_name": "ai4animals",
   "language": "python",
   "name": "python3"
  },
  "language_info": {
   "codemirror_mode": {
    "name": "ipython",
    "version": 3
   },
   "file_extension": ".py",
   "mimetype": "text/x-python",
   "name": "python",
   "nbconvert_exporter": "python",
   "pygments_lexer": "ipython3",
   "version": "3.10.10"
  }
 },
 "nbformat": 4,
 "nbformat_minor": 5
}
